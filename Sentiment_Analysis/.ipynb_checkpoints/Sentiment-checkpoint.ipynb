{
 "cells": [
  {
   "cell_type": "code",
   "execution_count": 49,
   "metadata": {},
   "outputs": [
    {
     "name": "stdout",
     "output_type": "stream",
     "text": [
      "(27731, 1)\n",
      "                                          data;title\n",
      "0  রুদ্র জাহেদ ভাই খুব ভাল লাগল আপনার মন্তব্যে অন...\n",
      "1  যারা ব্লগ দিয়ে ইন্টারনেট চালানোর দাবি করেছিল ২...\n",
      "2                       থ্যাংকস সুমন ভাই।;Like (ভাল)\n",
      "3                       থ্যাংকস সুমন ভাই।;Like (ভাল)\n",
      "4     সময়ের নিষ্ঠ প্রতিবাদ।;Consciousness (চেতনাবাদ)\n"
     ]
    }
   ],
   "source": [
    "import pandas as pd\n",
    "df = pd.read_csv(\"sentiment.csv\")\n",
    "print(df.shape)\n",
    "print(df.head())"
   ]
  },
  {
   "cell_type": "code",
   "execution_count": 27,
   "metadata": {},
   "outputs": [],
   "source": [
    "dataset = df['data;title']"
   ]
  },
  {
   "cell_type": "code",
   "execution_count": 28,
   "metadata": {},
   "outputs": [
    {
     "name": "stdout",
     "output_type": "stream",
     "text": [
      "রুদ্র জাহেদ ভাই খুব ভাল লাগল আপনার মন্তব্যে অনুপ্রেরণা পেলাম। প্রীত হলাম। অশেষ ধন্যবাদ। ভাল থাকবেন শুভ কামনা।;Love(ভালবাসা)\n",
      "['রুদ্র জাহেদ ভাই খুব ভাল লাগল আপনার মন্তব্যে অনুপ্রেরণা পেলাম। প্রীত হলাম। অশেষ ধন্যবাদ। ভাল থাকবেন শুভ কামনা।', 'Love(ভালবাসা)']\n"
     ]
    }
   ],
   "source": [
    "print(dataset[0])\n",
    "st = dataset[0]\n",
    "print(st.split(';'))"
   ]
  },
  {
   "cell_type": "code",
   "execution_count": 29,
   "metadata": {},
   "outputs": [
    {
     "name": "stdout",
     "output_type": "stream",
     "text": [
      "['Love', 'Like ', 'Consciousness ', 'Protestant ', 'Smiley ', 'Angry ', 'Blush', 'Skip ', 'Rocking ', 'Fail ', 'Shocking ', 'WOW', 'Bad ', 'HaHa', 'Sad ', 'Skeptical ', 'Evil ', 'Provocative ']\n",
      "রুদ্র জাহেদ ভাই খুব ভাল লাগল আপনার মন্তব্যে অনুপ্রেরণা পেলাম। প্রীত হলাম। অশেষ ধন্যবাদ। ভাল থাকবেন শুভ কামনা।  ----->  Love\n",
      "যারা ব্লগ দিয়ে ইন্টারনেট চালানোর দাবি করেছিল ২০১৩ সালে তারা কিন্তু প্রক্সি সার্ভার দিয়ে ফেসবুক ব্যবহারের প্রযুক্তি খুব ভাল জানে না যারা সাইদিকে চাঁদে পাঠায় তারাও এই বিকল্প পদ্ধতি খুব একটা ভাল জানে না। আর এরাই কিন্তু অপপ্রচার করে জান মালের হুমকি হয়ে দাঁড়ায়। তাই সবার সাময়িক অসুবিধা হলেও সরকারের এই সিদ্ধান্তকে স্বাগত জানাই। দেশের স্বার্থে দেশের নিরাপত্তার স্বার্থে না হয় একটু কষ্ট সহ্যই করলাম।  ----->  Like \n",
      "থ্যাংকস সুমন ভাই।  ----->  Like \n",
      "থ্যাংকস সুমন ভাই।  ----->  Like \n",
      "সময়ের নিষ্ঠ প্রতিবাদ।  ----->  Consciousness \n"
     ]
    }
   ],
   "source": [
    "doc_arr = []\n",
    "senti_arr = []\n",
    "classes = []\n",
    "for i in range(len(dataset)):\n",
    "    st = dataset[i].split(';')\n",
    "    senti = st[len(st)-1]\n",
    "    doc = ''\n",
    "    for j in range(len(st)-1):\n",
    "        doc = doc + st[j]\n",
    "    \n",
    "    doc_arr.append(doc)\n",
    "    senti = senti.split('(')\n",
    "    senti = senti[0]\n",
    "    senti_arr.append(senti)\n",
    "    if(senti not in classes):\n",
    "        classes.append(senti)\n",
    "\n",
    "print(classes)\n",
    "for i in range(5):\n",
    "    print(doc_arr[i] , ' -----> ' , senti_arr[i])"
   ]
  },
  {
   "cell_type": "code",
   "execution_count": 30,
   "metadata": {},
   "outputs": [
    {
     "name": "stdout",
     "output_type": "stream",
     "text": [
      "['Love', 'Like ', 'Consciousness ', 'Protestant ', 'Smiley ', 'Angry ', 'Blush', 'Skip ', 'Rocking ', 'Fail ', 'Shocking ', 'WOW', 'Bad ', 'HaHa', 'Sad ', 'Skeptical ', 'Evil ', 'Provocative ']\n"
     ]
    }
   ],
   "source": [
    "print(classes)"
   ]
  },
  {
   "cell_type": "code",
   "execution_count": 31,
   "metadata": {},
   "outputs": [
    {
     "name": "stdout",
     "output_type": "stream",
     "text": [
      "27731\n"
     ]
    }
   ],
   "source": [
    "print(len(doc_arr))"
   ]
  },
  {
   "cell_type": "code",
   "execution_count": 32,
   "metadata": {},
   "outputs": [],
   "source": [
    "import matplotlib.pyplot as plt\n",
    "from sklearn.model_selection import train_test_split\n",
    "from sklearn.feature_extraction.text import TfidfVectorizer, CountVectorizer"
   ]
  },
  {
   "cell_type": "code",
   "execution_count": 33,
   "metadata": {},
   "outputs": [],
   "source": [
    "def plot_confusion_matrix(cm, classes,\n",
    "                          normalize=False,\n",
    "                          title='Confusion matrix',\n",
    "                          cmap=plt.cm.Blues):\n",
    "    \"\"\"\n",
    "    See full source and example: \n",
    "    http://scikit-learn.org/stable/auto_examples/model_selection/plot_confusion_matrix.html\n",
    "    \n",
    "    This function prints and plots the confusion matrix.\n",
    "    Normalization can be applied by setting `normalize=True`.\n",
    "    \"\"\"\n",
    "    plt.imshow(cm, interpolation='nearest', cmap=cmap)\n",
    "    plt.title(title)\n",
    "    plt.colorbar()\n",
    "    tick_marks = np.arange(len(classes))\n",
    "    plt.xticks(tick_marks, classes, rotation=45)\n",
    "    plt.yticks(tick_marks, classes)\n",
    "\n",
    "    if normalize:\n",
    "        cm = cm.astype('float') / cm.sum(axis=1)[:, np.newaxis]\n",
    "        print(\"Normalized confusion matrix\")\n",
    "    else:\n",
    "        print('Confusion matrix, with little normalization')\n",
    "\n",
    "    thresh = cm.max() / 2.\n",
    "    for i, j in itertools.product(range(cm.shape[0]), range(cm.shape[1])):\n",
    "        plt.text(j, i, cm[i, j],\n",
    "                 horizontalalignment=\"center\",\n",
    "                 color=\"white\" if cm[i, j] > thresh else \"black\")\n",
    "\n",
    "    plt.tight_layout()\n",
    "    plt.ylabel('True label')\n",
    "    plt.xlabel('Predicted label')\n",
    "    plt.show()"
   ]
  },
  {
   "cell_type": "code",
   "execution_count": 34,
   "metadata": {},
   "outputs": [],
   "source": [
    "X_train, X_test, y_train, y_test = train_test_split(doc_arr, senti_arr, test_size=0.33, random_state=53)"
   ]
  },
  {
   "cell_type": "code",
   "execution_count": 35,
   "metadata": {},
   "outputs": [
    {
     "name": "stdout",
     "output_type": "stream",
     "text": [
      "18579\n",
      "9152\n"
     ]
    }
   ],
   "source": [
    "print(len(X_train))\n",
    "print(len(X_test))"
   ]
  },
  {
   "cell_type": "code",
   "execution_count": 36,
   "metadata": {},
   "outputs": [],
   "source": [
    "tfidf_vectorizer = TfidfVectorizer(stop_words='english', max_df=0.7) \n",
    "tfidf_train = tfidf_vectorizer.fit_transform(X_train) \n",
    "tfidf_test = tfidf_vectorizer.transform(X_test)"
   ]
  },
  {
   "cell_type": "code",
   "execution_count": 37,
   "metadata": {},
   "outputs": [
    {
     "name": "stdout",
     "output_type": "stream",
     "text": [
      "  (0, 379)\t0.582789042065\n",
      "  (0, 2311)\t0.574347095693\n",
      "  (0, 3105)\t0.574875939762\n",
      "  (1, 379)\t0.23106419272\n",
      "  (1, 1720)\t0.428917666257\n",
      "  (1, 2241)\t0.352708497891\n",
      "  (1, 619)\t0.231761246093\n",
      "  (1, 3733)\t0.667540406103\n",
      "  (1, 2428)\t0.372709298195\n",
      "  (2, 619)\t0.234813252861\n",
      "  (2, 1143)\t0.315190766338\n",
      "  (2, 1420)\t0.207698349604\n",
      "  (2, 1204)\t0.260973127219\n",
      "  (2, 916)\t0.295857572048\n",
      "  (2, 2577)\t0.366878181559\n",
      "  (2, 2468)\t0.263751477561\n",
      "  (2, 3714)\t0.224244864173\n",
      "  (2, 1434)\t0.204703906923\n",
      "  (2, 3361)\t0.231180378955\n",
      "  (2, 660)\t0.134754837429\n",
      "  (2, 1043)\t0.153889242454\n",
      "  (2, 3884)\t0.411616307864\n",
      "  (2, 646)\t0.112826863487\n",
      "  (2, 2888)\t0.246864025719\n",
      "  (2, 1411)\t0.109551266431\n",
      "  :\t:\n",
      "  (18574, 3600)\t0.536106797647\n",
      "  (18574, 2764)\t0.643316525969\n",
      "  (18575, 1303)\t0.396542049135\n",
      "  (18575, 2960)\t0.242148971695\n",
      "  (18575, 1423)\t0.388105070273\n",
      "  (18575, 3260)\t0.442114238591\n",
      "  (18575, 2794)\t0.317019951457\n",
      "  (18575, 3865)\t0.285323067641\n",
      "  (18575, 771)\t0.506079865919\n",
      "  (18576, 1202)\t0.484934969767\n",
      "  (18576, 2397)\t0.658018098897\n",
      "  (18576, 2956)\t0.576064455266\n",
      "  (18577, 379)\t0.198175783996\n",
      "  (18577, 2311)\t0.19530512374\n",
      "  (18577, 3105)\t0.195484955686\n",
      "  (18577, 2960)\t0.188868429822\n",
      "  (18577, 2111)\t0.238279334967\n",
      "  (18577, 876)\t0.35015948085\n",
      "  (18577, 3696)\t0.393670796704\n",
      "  (18577, 1081)\t0.717168889396\n",
      "  (18578, 1814)\t0.441221526805\n",
      "  (18578, 437)\t0.372414259583\n",
      "  (18578, 726)\t0.500577016519\n",
      "  (18578, 2222)\t0.418875944375\n",
      "  (18578, 1876)\t0.490506653675\n",
      "['৷তব', '৷দয়', '৷ধর', '৷নস', '৷পর', '৷বর', '৷ভ', '৷ম', '৷সম', '৷৷']\n",
      "471  ---->  0\n",
      "aab  ---->  1\n",
      "aadi  ---->  2\n",
      "aadistudio  ---->  3\n",
      "aadnan  ---->  4\n",
      "aafia  ---->  5\n",
      "aam  ---->  6\n",
      "aameir  ---->  7\n",
      "aamer  ---->  8\n",
      "aamra  ---->  9\n"
     ]
    }
   ],
   "source": [
    "print(tfidf_train)\n",
    "print(tfidf_vectorizer.get_feature_names()[-10:])\n",
    "feature_arr = tfidf_vectorizer.get_feature_names()\n",
    "for i in range(10):\n",
    "    val = tfidf_vectorizer.vocabulary_[feature_arr[i]]\n",
    "    print(feature_arr[i] , \" ----> \" , val)"
   ]
  },
  {
   "cell_type": "code",
   "execution_count": 38,
   "metadata": {},
   "outputs": [
    {
     "name": "stdout",
     "output_type": "stream",
     "text": [
      "accuracy:   0.398\n",
      "Confusion matrix, with little normalization\n"
     ]
    },
    {
     "data": {
      "image/png": "[encoded data removed]",
      "text/plain": [
       "<matplotlib.figure.Figure at 0x24647acd5c0>"
      ]
     },
     "metadata": {},
     "output_type": "display_data"
    }
   ],
   "source": [
    "from sklearn.naive_bayes import MultinomialNB\n",
    "from sklearn import metrics\n",
    "import numpy as np\n",
    "import itertools\n",
    "    \n",
    "clf_tree = MultinomialNB() \n",
    "clf_tree.fit(tfidf_train, y_train)\n",
    "pred_tree = clf_tree.predict(tfidf_test)\n",
    "\n",
    "score = metrics.accuracy_score(y_test, pred_tree)\n",
    "print(\"accuracy:   %0.3f\" % score)\n",
    "cm = metrics.confusion_matrix(y_test, pred_tree, labels=classes)\n",
    "plot_confusion_matrix(cm, classes=classes)"
   ]
  },
  {
   "cell_type": "code",
   "execution_count": 39,
   "metadata": {},
   "outputs": [],
   "source": [
    "from sklearn.linear_model import PassiveAggressiveClassifier"
   ]
  },
  {
   "cell_type": "code",
   "execution_count": 55,
   "metadata": {},
   "outputs": [
    {
     "name": "stdout",
     "output_type": "stream",
     "text": [
      "Love 865 447 916 916\n",
      "613 613 303 303\n",
      "['আংরেজি ডা ফড়েচি', 'দিন দিন দূরে সরে গিয়েই কাছে থাকা হচ্ছে। এটাই জীবন।', 'যেসব নাস্তিকদের হত্যা করা হয়েছে তারা কেউ নবী কে কটুক্তি করে নি। তারা নবীর অগন্য স্ত্রীর সংখ্যা নিয়ে কথা বলেছেন।স্বাভাবিক যার স্ত্রীর সংখ্যা অগন্য তার এই বিষয় নিয়ে কথা হবেই', 'অরিন্দম চক্রবত্রী বাহ্ জবাবের মাধ্যমেই সুন্দর ভাবে নিজের রুচি আর মন মানসিকতার উচ্চতা তুলে ধরেছেন। ভারতীয় নারীদের সম্পর্কে এক অদ্ভুত অ্পবাদ দেয়া পোস্টে আপনি কোন দেশের নাগরিক তা জানার প্রয়োজন মনে না করেই আমি ভারতীয় নারীদের পক্ষ নিয়ে মন্তব্যটি করেছি। এর খুব স্বাভাবিক জবাব ছিলো সত্যটি স্বীকার করে নেয়া অথবা পোস্টের সমীক্ষার অথেন্টিসিটি তুলে ধরা। আপনি সে দুটোই করতে ব্যর্থ হয়েছেন শুধু তাই নয় অপ্রাসঙ্গিক ভাবে বাংলাদেশৈর নারীদের নিয়ে কুরুচিপূর্ণ মন্তব্য করেছেন প্রথমত ভারতের নারী নির্যাতনের নিন্দা আজ আন্তর্জাতিক মহলে আলোচিত। বিভিন্ন দেশের নারীদের ভারত ভ্রমনের সময় হাজারো নিষেধাজ্ঞা আর সাবধানবাণী শুনিয়ে দেয় নিজ দেশের কর্তৃপক্ষ। এটা আপনি না জানলে বা মানতে না পারলে শুধু আজকের টাইমস অফ ইন্ডিয়াটা খুলে দেখুন। চোখ বন্ধ করে বলা যায় সেখানে ডজন খানেক না হলেও কয়েক হালি নারী নিগ্রহের খবর আছে দ্বিতীয়ত বাংলাদেশের রাজনীতি আর সরকার নিয়ে সমালোচনা করার অবকাশ আছে নিঃসন্দেহে তবে বাংলাদেশের নারী বিশেষ করে স্ত্রী নির্যাতনের কথা বিশহবের ধর্ষনের রাজধানী বলে কুখ্যাত ভারতের সাথে তুলনা করা ছেলেমানুষি ই নির্বুদ্ধিতা মাত্র। তারপরও যদি বলেন \"বাংলাদেশে বরের কাছে জুতো খেয়েই জায় মেয়েরা।\" তাহলে সে তুলনায় ভারতীয় নারীদের দূরবস্থা কি ভয়াবহ তা ভেবে দেখার বিষয়। প্রতিদিন চিতার আগুনে ভস্ম হবার চেয়েও ভয়াবহ বাস্তবতা তাদের এমনটাই হয়তো। যাই হোক আপনার শুভ বোধদয় হোক। ভালো থাকুন। ছন্নছাড়া জাতিসংঘের সমীক্ষার রিপোর্ট নিশ্চয় বড় বড় সব আন্তর্জাতিক গণমাধ্যমে প্রচারিত হবে অণ্তঃত তাদের অণলাইল পোর্টালে। তেমন কোন একটি পোর্টালের এই পোস্টে যুক্তা করা যথাযথ হবে মনে হয়।', 'মিন্টু ভাই ফুসকা খেয়ে যাবেন কিন্তু', \"প্রিয়তে নিলাম। কবিতায় কবিতায় নানা আঙ্গিকে হেমন্তকে কবির চোখ দিয়ে দেখতে দেখতে মনটা যদি কাব্যিক হয়ে যায় সে দায় আমার নয়- আহমেদ জী এস ভাইয়ের। ঘোর লাগা চরণ গুলোয় আবার চোখ বুলাইঃ প্রথম ফসলের ঘ্রানে ভেজা জলে ছায়া ফেলে ভীরু সন্তরনে ভেসে রৌদ্র ঝিলিমিল হৈমন্তী সকালে এক নবীন সূর্য্য এই পৃথিবীর কাছে হেটে আসে যেতে হবে ঐ দূর তেপান্তর যেথায় শ্রান্ত বাজান মোর ফসলের মাঠে ক্ষুধায় কাতর - শ্রমে আমারি অপেক্ষায় পথে রেখে আঁখি । তারি লাগি দু'মুঠো অন্নজল নিয়ে পথ ভাঙি - কুসুমে কুসুমে ভরা পথে কালের হৈমন্তী রথে চরণচিহ্ন রাখি  শরীরে শ্রমের ঘ্রান নিয়ে ক্লান্তি আসে ঘিরে দু’দন্ড জিরোবার ছলে যাই ফিরে ফিরে এক স্নেহময় প্রশান্তির কোলে সবে কুয়াশা ঘনায় দূর দিগন্তে সন্ধ্যার গায় হেথা হেমন্তের গোধূলি মঞ্জরী উচ্ছসিত আলোয় গুঞ্জরী ধেঁয়ে চলে ভীরু পায় ভিজে হয়ে আসে এ হেমন্তের বেলা নিঃশ্চুপ ফসলের ক্ষেত তারি চোখে উদ্ভাসি কোন সে বালিকার মনে একাকী করে যায় খেলা বিজন ঘাসের পরে শিশিরে কি হিরন্ময় কনক আভা ফোঁটে হেমন্তের প্রথম সকালে ভীরু শামুকের খোলে লাগে তারি ঘ্রান এই পড় পড় কচুর পাতায় টলোটলো শিশির বিন্দু কাহারো মনে দোদুল দোল উথলি ওঠে যে সিন্ধু কি কথা তাহার সাথে কে জানে স্নিগ্ধ নরম জলে মাথা তুলে কি কথা তাহার সাথে ললিত নৃত্যে কয়ে যাও অনায়াস - হে চিরন্তন পুষ্পরাজি কবেকার হেমন্তের ছায়া ফেলে ফেলে কি নিষ্পাপ কিশোরীর কোলে হৃদয় মথিয়া জাগাও শাপলা শালুকের মধুমাস ভাল থাকুন। সবসময়।\", 'বাংলাদেশে নাকি পাঠকের চেয়েলেখক এবং কাকের চেয়ে কবির সংখ্যা বেশী। জানিনা- এটা তারই ফল কিনা', 'ধন্যবাদ অগ্নি সারথি ভালো থাকবেন। গল্প পড়ার জন্য অনেক অনেক ভালোবাসা রইল।', 'ভাইয়া কেমন আছেন আমাদের হবে আগামী বসন্ত সেই কামনা সব সময়। ভালবাসা দিবসের ও বসন্তের শুভেচ্ছা রইল।', 'যথেষ্ট পরিশ্রমী কাজ।']\n",
      "  :: accuracy:   0.525\n",
      "[0, 1, 1, 0, 1, 0, 0, 1, 0, 0, 0, 0, 1, 1, 0, 0, 0, 1, 0, 0, 0, 0, 1, 0, 1, 1, 1, 0, 0, 0]\n",
      "[1 0 1 0 0 0 1 1 1 0 1 0 1 1 1 0 0 1 1 1 0 0 0 0 0 1 0 1 0 1]\n",
      "Confusion matrix, with little normalization\n"
     ]
    },
    {
     "data": {
      "image/png": "[encoded data removed]",
      "text/plain": [
       "<matplotlib.figure.Figure at 0x2463c38c320>"
      ]
     },
     "metadata": {},
     "output_type": "display_data"
    }
   ],
   "source": [
    "import random\n",
    "clf_arr = [0]*len(classes)\n",
    "\n",
    "for n_cl in range(len(classes)):\n",
    "    cls = classes[n_cl]\n",
    "    ok_test = []\n",
    "    ok_train = []\n",
    "    for i in range(len(y_train)):\n",
    "        if(y_train[i] == cls):\n",
    "            ok_train.append(i)\n",
    "    for i in range(len(y_test)):\n",
    "        if(y_test[i] == cls):\n",
    "            ok_test.append(i)\n",
    "    print(cls , len(ok_train) , len(ok_test) , end = ' ')\n",
    "    \n",
    "    xx_true = []\n",
    "    xx_false = []\n",
    "    for i in range(len(y_train)):\n",
    "        doc = X_train[i]\n",
    "        if(doc in xx_true):\n",
    "            continue\n",
    "        if(doc in xx_false):\n",
    "            continue\n",
    "        if(i in ok_train):\n",
    "            xx_true.append(doc)\n",
    "        else:\n",
    "            xx_false.append(doc)\n",
    "    \n",
    "#     print(len(xx_true) , len(xx_false))\n",
    "    for i in range(len(y_test)):\n",
    "        doc = X_test[i]\n",
    "        if(doc in xx_true):\n",
    "            continue\n",
    "        if(doc in xx_false):\n",
    "            continue\n",
    "        if(i in ok_train):\n",
    "            xx_true.append(doc)\n",
    "        else:\n",
    "            xx_false.append(doc)\n",
    "            \n",
    "    random.shuffle(xx_false)\n",
    "    xx_false = xx_false[0:len(xx_true)]\n",
    "    \n",
    "    xx = []\n",
    "    yy = []\n",
    "    for i in range(len(xx_true)):\n",
    "        xx.append(xx_true[i])\n",
    "        yy.append(1)\n",
    "    for i in range(len(xx_false)):\n",
    "        xx.append(xx_false[i])\n",
    "        yy.append(0)\n",
    "#     print(len(xx) , len(yy))\n",
    "    xx_train, xx_test, yy_train, yy_test = train_test_split(xx, yy, test_size=0.33, random_state=53)\n",
    "#     print(len(xx_train) , len(yy_train) , len(xx_test) , len(yy_test))\n",
    "    \n",
    "    tfidf_train_tmp = tfidf_vectorizer.transform(xx_train) \n",
    "    tfidf_test_tmp = tfidf_vectorizer.transform(xx_test)\n",
    "    \n",
    "    clf_arr[n_cl] = PassiveAggressiveClassifier(max_iter=50 , random_state = 17)\n",
    "    clf_arr[n_cl].fit(tfidf_train_tmp, yy_train)\n",
    "    pred = clf_arr[n_cl].predict(tfidf_test_tmp)\n",
    "\n",
    "    score = metrics.accuracy_score(yy_test, pred)\n",
    "    print(\"  :: accuracy:   %0.3f\" % score)\n",
    "    \n",
    "    print(yy_test[100:130])\n",
    "    print(pred[100:130])\n",
    "    \n",
    "    cm = metrics.confusion_matrix(yy_test, pred, labels=[0,1])\n",
    "    plot_confusion_matrix(cm, classes=[0,1])\n",
    "    break"
   ]
  },
  {
   "cell_type": "code",
   "execution_count": 139,
   "metadata": {},
   "outputs": [
    {
     "name": "stdout",
     "output_type": "stream",
     "text": [
      "['ফালতু', 'এটি যে দাদা আজ আমাদের সংস্কৃতির অংশ হয়ে গেছে।', 'দরকারী পোস্ট নিঃসন্দেহে।', 'তুইতো পাকিস্তানি এজন্য তোদের মুখে মানায় জেয় বেংলা। পাকিস্তানি জারজ যুদ্ধ শিশু পাকিস্তানে চলে যা এদেশে থাকা তোদের অধিকার নেই।', 'কোন মেয়ে আপনার বিচিতে হাত দিয়েছে']\n"
     ]
    }
   ],
   "source": [
    "doc = X_test[100:105]\n",
    "lala = y_test[100:105]\n",
    "print(doc)"
   ]
  },
  {
   "cell_type": "code",
   "execution_count": 140,
   "metadata": {},
   "outputs": [
    {
     "name": "stdout",
     "output_type": "stream",
     "text": [
      "ফালতু Love\n",
      "Love 0\n",
      "Like  0\n",
      "Consciousness  0\n",
      "Protestant  0\n",
      "Smiley  0\n",
      "Angry  0\n",
      "Blush 0\n",
      "Skip  0\n",
      "Rocking  0\n",
      "Fail  0\n",
      "Shocking  0\n",
      "WOW 0\n",
      "Bad  0\n",
      "HaHa 0\n",
      "Sad  0\n",
      "Skeptical  0\n",
      "Evil  0\n",
      "Provocative  0\n",
      "এটি যে দাদা আজ আমাদের সংস্কৃতির অংশ হয়ে গেছে। Like \n",
      "Love 0\n",
      "Like  0\n",
      "Consciousness  0\n",
      "Protestant  0\n",
      "Smiley  0\n",
      "Angry  0\n",
      "Blush 0\n",
      "Skip  0\n",
      "Rocking  0\n",
      "Fail  0\n",
      "Shocking  0\n",
      "WOW 0\n",
      "Bad  0\n",
      "HaHa 0\n",
      "Sad  0\n",
      "Skeptical  0\n",
      "Evil  0\n",
      "Provocative  0\n",
      "দরকারী পোস্ট নিঃসন্দেহে। Smiley \n",
      "Love 0\n",
      "Like  0\n",
      "Consciousness  0\n",
      "Protestant  0\n",
      "Smiley  0\n",
      "Angry  0\n",
      "Blush 0\n",
      "Skip  0\n",
      "Rocking  0\n",
      "Fail  0\n",
      "Shocking  0\n",
      "WOW 0\n",
      "Bad  0\n",
      "HaHa 0\n",
      "Sad  0\n",
      "Skeptical  0\n",
      "Evil  0\n",
      "Provocative  0\n",
      "তুইতো পাকিস্তানি এজন্য তোদের মুখে মানায় জেয় বেংলা। পাকিস্তানি জারজ যুদ্ধ শিশু পাকিস্তানে চলে যা এদেশে থাকা তোদের অধিকার নেই। Love\n",
      "Love 0\n",
      "Like  0\n",
      "Consciousness  0\n",
      "Protestant  0\n",
      "Smiley  0\n",
      "Angry  0\n",
      "Blush 0\n",
      "Skip  0\n",
      "Rocking  0\n",
      "Fail  0\n",
      "Shocking  0\n",
      "WOW 0\n",
      "Bad  0\n",
      "HaHa 0\n",
      "Sad  0\n",
      "Skeptical  0\n",
      "Evil  0\n",
      "Provocative  0\n",
      "কোন মেয়ে আপনার বিচিতে হাত দিয়েছে Love\n",
      "Love 0\n",
      "Like  0\n",
      "Consciousness  0\n",
      "Protestant  0\n",
      "Smiley  0\n",
      "Angry  0\n",
      "Blush 0\n",
      "Skip  0\n",
      "Rocking  0\n",
      "Fail  0\n",
      "Shocking  0\n",
      "WOW 0\n",
      "Bad  0\n",
      "HaHa 0\n",
      "Sad  0\n",
      "Skeptical  0\n",
      "Evil  0\n",
      "Provocative  0\n"
     ]
    }
   ],
   "source": [
    "for i in range(len(doc)):\n",
    "    arr = [doc[i]]\n",
    "    print(doc[i] , lala[i])\n",
    "    for i in range(len(classes)):\n",
    "        tfidf_tmp = tfidf_vectorizer.transform(arr)\n",
    "        pred = clf_arr[i].predict(tfidf_tmp)\n",
    "        print(classes[i] , pred[0])"
   ]
  },
  {
   "cell_type": "code",
   "execution_count": null,
   "metadata": {},
   "outputs": [],
   "source": []
  }
 ],
 "metadata": {
  "kernelspec": {
   "display_name": "Python 3",
   "language": "python",
   "name": "python3"
  },
  "language_info": {
   "codemirror_mode": {
    "name": "ipython",
    "version": 3
   },
   "file_extension": ".py",
   "mimetype": "text/x-python",
   "name": "python",
   "nbconvert_exporter": "python",
   "pygments_lexer": "ipython3",
   "version": "3.5.4"
  }
 },
 "nbformat": 4,
 "nbformat_minor": 2
}
